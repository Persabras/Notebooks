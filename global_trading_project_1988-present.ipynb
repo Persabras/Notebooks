{
 "cells": [
  {
   "cell_type": "markdown",
   "id": "d4361f8a",
   "metadata": {
    "_cell_guid": "b1076dfc-b9ad-4769-8c92-a6c4dae69d19",
    "_uuid": "8f2839f25d086af736a60e9eeb907d3b93b6e0e5",
    "execution": {
     "iopub.execute_input": "2022-09-26T16:28:02.248026Z",
     "iopub.status.busy": "2022-09-26T16:28:02.247557Z",
     "iopub.status.idle": "2022-09-26T16:28:02.287135Z",
     "shell.execute_reply": "2022-09-26T16:28:02.285731Z",
     "shell.execute_reply.started": "2022-09-26T16:28:02.247934Z"
    },
    "papermill": {
     "duration": 0.007414,
     "end_time": "2022-09-27T02:21:23.693493",
     "exception": false,
     "start_time": "2022-09-27T02:21:23.686079",
     "status": "completed"
    },
    "tags": []
   },
   "source": [
    "# <div style=\"width:100%;text-align: center;color:darkblue;font-size:45px\">  Global Comoodity Trade </div>\n",
    " \n",
    "    \n",
    "*Author: Yousef Moterassed*  \n",
    "*September 2022*\n",
    "  \n",
    "***"
   ]
  },
  {
   "cell_type": "markdown",
   "id": "10c9b14a",
   "metadata": {
    "papermill": {
     "duration": 0.004342,
     "end_time": "2022-09-27T02:21:23.703553",
     "exception": false,
     "start_time": "2022-09-27T02:21:23.699211",
     "status": "completed"
    },
    "tags": []
   },
   "source": [
    "# Introduction\n",
    "\n",
    "These days it is inevitable to be involved with the economy and politics since it strongly affects our day-to-day life. So it might be helpful to have a realistic and data-driven sight of the actual situation of the global economy and trading exchanges.\n",
    "\n",
    "My name is [Yousef Moterassed](https://www.kaggle.com/yousefmoterassed), a Persian borned boy who lives in Samba-Land 🇧🇷. I am working in the trade and business field for many years and after stepping into the Data Science and Data Analysis road, decided to combine these knowledges to be able to uncover some hidden information behind the curtain of the data, and release some data-driven information publicly in which it might help myself and our society to increase their understanding and common knowledge about what's going on in our world's economy.\n",
    "\n",
    "I hope this project which has been done with Python in the Kaggle platform, would help some of you to have a better vision of what's going on in our world's economy and trades."
   ]
  },
  {
   "cell_type": "markdown",
   "id": "6fc1817f",
   "metadata": {
    "papermill": {
     "duration": 0.004292,
     "end_time": "2022-09-27T02:21:23.712414",
     "exception": false,
     "start_time": "2022-09-27T02:21:23.708122",
     "status": "completed"
    },
    "tags": []
   },
   "source": [
    "## Who are the audience of this work?\n",
    "\n",
    "This project has been done in hope to help to improve the **public knowledge** in the first place. Although some statistical or mathematical terms and calculations in some contents might seem a bit difficult or boring to understand, I will try to facilitate them with simplified visualizations and will be explained in plain English within the <a href='#1'>Explanation and Observation</a> section.\n",
    "\n",
    "However this is my hope that through the ease of using this project some of our statisticians, civil and public servants, politicians and economists, to help the progress of our societies with their deeper and more technical works."
   ]
  },
  {
   "cell_type": "markdown",
   "id": "3e6b687b",
   "metadata": {
    "papermill": {
     "duration": 0.004171,
     "end_time": "2022-09-27T02:21:23.720980",
     "exception": false,
     "start_time": "2022-09-27T02:21:23.716809",
     "status": "completed"
    },
    "tags": []
   },
   "source": [
    "# About the data\n",
    "\n",
    "This dataset was kindly published by the **United Nations** Statistics Division on the **[UNData](http://data.un.org/Explorer.aspx)** site. You can find the original dataset [here](http://data.un.org/Explorer.aspx).\n",
    "\n",
    "This dataset contain about **8,225,870 entries** and around **1.23 GB** of data.\n",
    "Some of the numbers on this dataset are more trustworthy than others. I'd expect that British tea imports are fairly accurate, but doubt that Afghanistan exported exactly 51 sheep in 2016. Can we identify which nations appear to have the most trustworthy data? Which industries? \n",
    "\n",
    "I will try to reach out to some useful and reliable conclusions at the end and surely will keep updating this notebook with fresh ideas and new techniques I would learn during my DS journey, and I hope you would not withhold your conclusions and opinions about this analysis.\n",
    "\n",
    "\n",
    "## Columns explanation\n",
    "\n",
    "This dataset contains 10 major columns and is defined as below:\n",
    "1. **country_or_area**: Name of the country or the area in which we will rename it to \"Country\" for our analysis\n",
    "2. **year**: This is an annual report, so it is the year in which the trade has taken place\n",
    "3. **comm_code**: Per the World Customs Organization: The Harmonized Commodity Description and Coding System generally referred to as \"Harmonized System\" or simply \"HS\" is a multipurpose international product nomenclature developed by the **World Customs Organization** (WCO). It comprises about 5,000 commodity groups; each identified by a six digit code, arranged in a legal and logical structure and is supported by well-defined rules to achieve uniform classification. For more, see [here](http://www.wcoomd.org/en/topics/nomenclature/overview/what-is-the-harmonized-system.aspx)\n",
    "4. **commodity**: The description of a particular commodity code, i.e. \"Horses, live pure-bred breeding\"\n",
    "5. **flow**: Flow of trade i.e. Export, Import, Re-Import\n",
    "6. **trade_usd**: Value of the trade in US Dollars ($)\n",
    "7. **weight_kg**: Weight of the commodity in is the SI unit of mass, Kilograms (Kg)\n",
    "8. **quantity_name**: A description of the quantity measurement type given the type of item (i.e. Number of Items, Weight in Kilograms, etc.)\n",
    "9. **quantity**: Count of the quantity of a given item based on the Quantity Name\n",
    "10. **category**: Category to identify commodity i.e \"02 Meat and edible meat offal\"\n",
    "\n",
    "\n",
    "## Licence\n",
    "License\n",
    "[Per the UNData terms of use](http://data.un.org/Host.aspx?Content=UNdataUse): all data and metadata provided on UNdata’s website are available free of charge and may be copied freely, duplicated and further distributed provided that [UNdata](http://data.un.org/Explorer.aspx) is cited as the reference.\n"
   ]
  },
  {
   "cell_type": "markdown",
   "id": "f6ec2928",
   "metadata": {
    "papermill": {
     "duration": 0.004259,
     "end_time": "2022-09-27T02:21:23.729598",
     "exception": false,
     "start_time": "2022-09-27T02:21:23.725339",
     "status": "completed"
    },
    "tags": []
   },
   "source": [
    "# What is the purpose of my project?\n",
    "\n",
    "I have learned from the most impressive person in my life whom her legacy and lessons are in my ears everyday and most imortant of them is that we came to this world to create, not just to consume. And we have to know somethings before creating anything for other human being to use or consume.\n",
    "\n",
    "Why are we doing this?\n",
    "For who we are doing it?\n",
    "When is better to do it?\n",
    "\n",
    "### Questions to be answered:\n",
    "1. when was the year with the most import and export records?\n",
    "2. Visualizing each year import and export records(Out of the item above)\n",
    "3. Global trades are mostly in import or export segment?\n",
    "4. Which countries have the most participation in import and export?\n",
    "5. Verify them in each segment/import and export\n",
    "6. Which items traded in the most quantity or weight?\n",
    "7. Put two or three countries in three groups of high/mid/low trade segment and analyze their trends.\n",
    "8. what was the impact of the covid on the market?\n",
    "9. Highest exporters imported what products in return?\n",
    "10. Take a look at your mothersland, iran and brazil segments and trends. Maybe in another notebook \n",
    "11. What is the value of export and import traded per year?\n",
    "12. Does this value affect the world deveoloping velocity?\n",
    "13. which category is in the high demand?\n",
    "14. what are the top categories for each countries in those groups you defined?\n",
    "15. What is the value of the trades per year for those countries?\n",
    "16. Does those values helped the countries to develop?\n",
    "17. * Which countries exported more than they imported?\n",
    "18. Whiat products or services serves the world better?\n",
    "19. Is it real that feeding human being is the priority for the countries? What are ther references?"
   ]
  },
  {
   "cell_type": "markdown",
   "id": "ba7a3291",
   "metadata": {
    "papermill": {
     "duration": 0.004297,
     "end_time": "2022-09-27T02:21:23.738513",
     "exception": false,
     "start_time": "2022-09-27T02:21:23.734216",
     "status": "completed"
    },
    "tags": []
   },
   "source": [
    "# Preparing our dataset\n",
    "\n",
    "Here is the very first step of our work, we simply import libraries and call our dataset in a dataframe called `df`"
   ]
  },
  {
   "cell_type": "code",
   "execution_count": 1,
   "id": "49b98e73",
   "metadata": {
    "_kg_hide-input": true,
    "_kg_hide-output": true,
    "execution": {
     "iopub.execute_input": "2022-09-27T02:21:23.750306Z",
     "iopub.status.busy": "2022-09-27T02:21:23.749429Z",
     "iopub.status.idle": "2022-09-27T02:21:52.511824Z",
     "shell.execute_reply": "2022-09-27T02:21:52.510736Z"
    },
    "papermill": {
     "duration": 28.771771,
     "end_time": "2022-09-27T02:21:52.514818",
     "exception": false,
     "start_time": "2022-09-27T02:21:23.743047",
     "status": "completed"
    },
    "tags": []
   },
   "outputs": [
    {
     "name": "stdout",
     "output_type": "stream",
     "text": [
      "['global-commodity-trade-statistics']\n"
     ]
    }
   ],
   "source": [
    "import numpy as np # linear algebra\n",
    "import pandas as pd # data processing, CSV file I/O (e.g. pd.read_csv)\n",
    "import os\n",
    "print(os.listdir(\"../input\"))\n",
    "df= pd.read_csv('../input/global-commodity-trade-statistics/commodity_trade_statistics_data.csv',low_memory=False)"
   ]
  },
  {
   "cell_type": "markdown",
   "id": "ac0963b0",
   "metadata": {
    "papermill": {
     "duration": 0.005135,
     "end_time": "2022-09-27T02:21:52.525372",
     "exception": false,
     "start_time": "2022-09-27T02:21:52.520237",
     "status": "completed"
    },
    "tags": []
   },
   "source": [
    "Let us have a quick look at this large data set with only first five rows."
   ]
  },
  {
   "cell_type": "code",
   "execution_count": 2,
   "id": "fcca7a8e",
   "metadata": {
    "execution": {
     "iopub.execute_input": "2022-09-27T02:21:52.537381Z",
     "iopub.status.busy": "2022-09-27T02:21:52.536949Z",
     "iopub.status.idle": "2022-09-27T02:21:52.566617Z",
     "shell.execute_reply": "2022-09-27T02:21:52.565519Z"
    },
    "papermill": {
     "duration": 0.039078,
     "end_time": "2022-09-27T02:21:52.569492",
     "exception": false,
     "start_time": "2022-09-27T02:21:52.530414",
     "status": "completed"
    },
    "tags": []
   },
   "outputs": [
    {
     "data": {
      "text/html": [
       "<div>\n",
       "<style scoped>\n",
       "    .dataframe tbody tr th:only-of-type {\n",
       "        vertical-align: middle;\n",
       "    }\n",
       "\n",
       "    .dataframe tbody tr th {\n",
       "        vertical-align: top;\n",
       "    }\n",
       "\n",
       "    .dataframe thead th {\n",
       "        text-align: right;\n",
       "    }\n",
       "</style>\n",
       "<table border=\"1\" class=\"dataframe\">\n",
       "  <thead>\n",
       "    <tr style=\"text-align: right;\">\n",
       "      <th></th>\n",
       "      <th>country_or_area</th>\n",
       "      <th>year</th>\n",
       "      <th>comm_code</th>\n",
       "      <th>commodity</th>\n",
       "      <th>flow</th>\n",
       "      <th>trade_usd</th>\n",
       "      <th>weight_kg</th>\n",
       "      <th>quantity_name</th>\n",
       "      <th>quantity</th>\n",
       "      <th>category</th>\n",
       "    </tr>\n",
       "  </thead>\n",
       "  <tbody>\n",
       "    <tr>\n",
       "      <th>0</th>\n",
       "      <td>Afghanistan</td>\n",
       "      <td>2016</td>\n",
       "      <td>010410</td>\n",
       "      <td>Sheep, live</td>\n",
       "      <td>Export</td>\n",
       "      <td>6088</td>\n",
       "      <td>2339.0</td>\n",
       "      <td>Number of items</td>\n",
       "      <td>51.0</td>\n",
       "      <td>01_live_animals</td>\n",
       "    </tr>\n",
       "    <tr>\n",
       "      <th>1</th>\n",
       "      <td>Afghanistan</td>\n",
       "      <td>2016</td>\n",
       "      <td>010420</td>\n",
       "      <td>Goats, live</td>\n",
       "      <td>Export</td>\n",
       "      <td>3958</td>\n",
       "      <td>984.0</td>\n",
       "      <td>Number of items</td>\n",
       "      <td>53.0</td>\n",
       "      <td>01_live_animals</td>\n",
       "    </tr>\n",
       "    <tr>\n",
       "      <th>2</th>\n",
       "      <td>Afghanistan</td>\n",
       "      <td>2008</td>\n",
       "      <td>010210</td>\n",
       "      <td>Bovine animals, live pure-bred breeding</td>\n",
       "      <td>Import</td>\n",
       "      <td>1026804</td>\n",
       "      <td>272.0</td>\n",
       "      <td>Number of items</td>\n",
       "      <td>3769.0</td>\n",
       "      <td>01_live_animals</td>\n",
       "    </tr>\n",
       "    <tr>\n",
       "      <th>3</th>\n",
       "      <td>Albania</td>\n",
       "      <td>2016</td>\n",
       "      <td>010290</td>\n",
       "      <td>Bovine animals, live, except pure-bred breeding</td>\n",
       "      <td>Import</td>\n",
       "      <td>2414533</td>\n",
       "      <td>1114023.0</td>\n",
       "      <td>Number of items</td>\n",
       "      <td>6853.0</td>\n",
       "      <td>01_live_animals</td>\n",
       "    </tr>\n",
       "    <tr>\n",
       "      <th>4</th>\n",
       "      <td>Albania</td>\n",
       "      <td>2016</td>\n",
       "      <td>010392</td>\n",
       "      <td>Swine, live except pure-bred breeding &gt; 50 kg</td>\n",
       "      <td>Import</td>\n",
       "      <td>14265937</td>\n",
       "      <td>9484953.0</td>\n",
       "      <td>Number of items</td>\n",
       "      <td>96040.0</td>\n",
       "      <td>01_live_animals</td>\n",
       "    </tr>\n",
       "  </tbody>\n",
       "</table>\n",
       "</div>"
      ],
      "text/plain": [
       "  country_or_area  year comm_code  \\\n",
       "0     Afghanistan  2016    010410   \n",
       "1     Afghanistan  2016    010420   \n",
       "2     Afghanistan  2008    010210   \n",
       "3         Albania  2016    010290   \n",
       "4         Albania  2016    010392   \n",
       "\n",
       "                                         commodity    flow  trade_usd  \\\n",
       "0                                      Sheep, live  Export       6088   \n",
       "1                                      Goats, live  Export       3958   \n",
       "2          Bovine animals, live pure-bred breeding  Import    1026804   \n",
       "3  Bovine animals, live, except pure-bred breeding  Import    2414533   \n",
       "4    Swine, live except pure-bred breeding > 50 kg  Import   14265937   \n",
       "\n",
       "   weight_kg    quantity_name  quantity         category  \n",
       "0     2339.0  Number of items      51.0  01_live_animals  \n",
       "1      984.0  Number of items      53.0  01_live_animals  \n",
       "2      272.0  Number of items    3769.0  01_live_animals  \n",
       "3  1114023.0  Number of items    6853.0  01_live_animals  \n",
       "4  9484953.0  Number of items   96040.0  01_live_animals  "
      ]
     },
     "execution_count": 2,
     "metadata": {},
     "output_type": "execute_result"
    }
   ],
   "source": [
    "df.head()"
   ]
  },
  {
   "cell_type": "markdown",
   "id": "6795a0b1",
   "metadata": {
    "papermill": {
     "duration": 0.004938,
     "end_time": "2022-09-27T02:21:52.579877",
     "exception": false,
     "start_time": "2022-09-27T02:21:52.574939",
     "status": "completed"
    },
    "tags": []
   },
   "source": [
    "First I would like to **rename** the column name of the **\"country_or_area\" to \"country\"** in which would facilitate our works."
   ]
  },
  {
   "cell_type": "code",
   "execution_count": 3,
   "id": "86d0508e",
   "metadata": {
    "execution": {
     "iopub.execute_input": "2022-09-27T02:21:52.592269Z",
     "iopub.status.busy": "2022-09-27T02:21:52.591284Z",
     "iopub.status.idle": "2022-09-27T02:21:52.600957Z",
     "shell.execute_reply": "2022-09-27T02:21:52.600013Z"
    },
    "papermill": {
     "duration": 0.018552,
     "end_time": "2022-09-27T02:21:52.603445",
     "exception": false,
     "start_time": "2022-09-27T02:21:52.584893",
     "status": "completed"
    },
    "tags": []
   },
   "outputs": [],
   "source": [
    "df.rename(columns = {'country_or_area':'country'}, inplace = True)"
   ]
  },
  {
   "cell_type": "markdown",
   "id": "a3ce0881",
   "metadata": {
    "papermill": {
     "duration": 0.004756,
     "end_time": "2022-09-27T02:21:52.613415",
     "exception": false,
     "start_time": "2022-09-27T02:21:52.608659",
     "status": "completed"
    },
    "tags": []
   },
   "source": [
    "# Descriptive and Exploratory Statistics (EDA)\n",
    "\n",
    "This is important to understand that these days the statistics and mathematical calculations behind it is the inseparable part of any serious analysis. Luckily the efforts of prior scientists made our job way easier than before, since there are some functions in Python like `describe()` and `info()` to calculate all the important statistical tools for us, also to see the data types and entries."
   ]
  },
  {
   "cell_type": "code",
   "execution_count": 4,
   "id": "a4ca5bb3",
   "metadata": {
    "execution": {
     "iopub.execute_input": "2022-09-27T02:21:52.625333Z",
     "iopub.status.busy": "2022-09-27T02:21:52.624902Z",
     "iopub.status.idle": "2022-09-27T02:21:52.645972Z",
     "shell.execute_reply": "2022-09-27T02:21:52.644743Z"
    },
    "papermill": {
     "duration": 0.030683,
     "end_time": "2022-09-27T02:21:52.649025",
     "exception": false,
     "start_time": "2022-09-27T02:21:52.618342",
     "status": "completed"
    },
    "tags": []
   },
   "outputs": [
    {
     "name": "stdout",
     "output_type": "stream",
     "text": [
      "<class 'pandas.core.frame.DataFrame'>\n",
      "RangeIndex: 8225871 entries, 0 to 8225870\n",
      "Data columns (total 10 columns):\n",
      " #   Column         Dtype  \n",
      "---  ------         -----  \n",
      " 0   country        object \n",
      " 1   year           int64  \n",
      " 2   comm_code      object \n",
      " 3   commodity      object \n",
      " 4   flow           object \n",
      " 5   trade_usd      int64  \n",
      " 6   weight_kg      float64\n",
      " 7   quantity_name  object \n",
      " 8   quantity       float64\n",
      " 9   category       object \n",
      "dtypes: float64(2), int64(2), object(6)\n",
      "memory usage: 627.6+ MB\n"
     ]
    }
   ],
   "source": [
    "df.info()"
   ]
  },
  {
   "cell_type": "markdown",
   "id": "2ec9b836",
   "metadata": {
    "papermill": {
     "duration": 0.006161,
     "end_time": "2022-09-27T02:21:52.661290",
     "exception": false,
     "start_time": "2022-09-27T02:21:52.655129",
     "status": "completed"
    },
    "tags": []
   },
   "source": [
    "We can see that the column year is parsed as integer, so we will convert it to datetime format and then verify the description of this dataset"
   ]
  },
  {
   "cell_type": "code",
   "execution_count": 5,
   "id": "173853de",
   "metadata": {
    "execution": {
     "iopub.execute_input": "2022-09-27T02:21:52.673945Z",
     "iopub.status.busy": "2022-09-27T02:21:52.672814Z",
     "iopub.status.idle": "2022-09-27T02:21:52.883406Z",
     "shell.execute_reply": "2022-09-27T02:21:52.882285Z"
    },
    "papermill": {
     "duration": 0.21983,
     "end_time": "2022-09-27T02:21:52.886278",
     "exception": false,
     "start_time": "2022-09-27T02:21:52.666448",
     "status": "completed"
    },
    "tags": []
   },
   "outputs": [],
   "source": [
    "df['year']= pd.to_datetime(df['year'], format='%Y')"
   ]
  },
  {
   "cell_type": "code",
   "execution_count": 6,
   "id": "3f89076d",
   "metadata": {
    "execution": {
     "iopub.execute_input": "2022-09-27T02:21:52.898426Z",
     "iopub.status.busy": "2022-09-27T02:21:52.898014Z",
     "iopub.status.idle": "2022-09-27T02:21:58.606631Z",
     "shell.execute_reply": "2022-09-27T02:21:58.605791Z"
    },
    "papermill": {
     "duration": 5.717558,
     "end_time": "2022-09-27T02:21:58.609007",
     "exception": false,
     "start_time": "2022-09-27T02:21:52.891449",
     "status": "completed"
    },
    "tags": []
   },
   "outputs": [
    {
     "data": {
      "text/html": [
       "<div>\n",
       "<style scoped>\n",
       "    .dataframe tbody tr th:only-of-type {\n",
       "        vertical-align: middle;\n",
       "    }\n",
       "\n",
       "    .dataframe tbody tr th {\n",
       "        vertical-align: top;\n",
       "    }\n",
       "\n",
       "    .dataframe thead th {\n",
       "        text-align: right;\n",
       "    }\n",
       "</style>\n",
       "<table border=\"1\" class=\"dataframe\">\n",
       "  <thead>\n",
       "    <tr style=\"text-align: right;\">\n",
       "      <th></th>\n",
       "      <th>country</th>\n",
       "      <th>year</th>\n",
       "      <th>comm_code</th>\n",
       "      <th>commodity</th>\n",
       "      <th>flow</th>\n",
       "      <th>trade_usd</th>\n",
       "      <th>weight_kg</th>\n",
       "      <th>quantity_name</th>\n",
       "      <th>quantity</th>\n",
       "      <th>category</th>\n",
       "    </tr>\n",
       "  </thead>\n",
       "  <tbody>\n",
       "    <tr>\n",
       "      <th>count</th>\n",
       "      <td>8225871</td>\n",
       "      <td>8225871</td>\n",
       "      <td>8225871</td>\n",
       "      <td>8225871</td>\n",
       "      <td>8225871</td>\n",
       "      <td>8.225871e+06</td>\n",
       "      <td>8.097396e+06</td>\n",
       "      <td>8225871</td>\n",
       "      <td>7.921014e+06</td>\n",
       "      <td>8225871</td>\n",
       "    </tr>\n",
       "    <tr>\n",
       "      <th>unique</th>\n",
       "      <td>209</td>\n",
       "      <td>NaN</td>\n",
       "      <td>5040</td>\n",
       "      <td>5031</td>\n",
       "      <td>4</td>\n",
       "      <td>NaN</td>\n",
       "      <td>NaN</td>\n",
       "      <td>12</td>\n",
       "      <td>NaN</td>\n",
       "      <td>98</td>\n",
       "    </tr>\n",
       "    <tr>\n",
       "      <th>top</th>\n",
       "      <td>Australia</td>\n",
       "      <td>NaN</td>\n",
       "      <td>TOTAL</td>\n",
       "      <td>ALL COMMODITIES</td>\n",
       "      <td>Import</td>\n",
       "      <td>NaN</td>\n",
       "      <td>NaN</td>\n",
       "      <td>Weight in kilograms</td>\n",
       "      <td>NaN</td>\n",
       "      <td>95_toys_games_sports_requisites</td>\n",
       "    </tr>\n",
       "    <tr>\n",
       "      <th>freq</th>\n",
       "      <td>307627</td>\n",
       "      <td>NaN</td>\n",
       "      <td>9185</td>\n",
       "      <td>9185</td>\n",
       "      <td>4848524</td>\n",
       "      <td>NaN</td>\n",
       "      <td>NaN</td>\n",
       "      <td>6617980</td>\n",
       "      <td>NaN</td>\n",
       "      <td>100000</td>\n",
       "    </tr>\n",
       "    <tr>\n",
       "      <th>mean</th>\n",
       "      <td>NaN</td>\n",
       "      <td>2004-10-07 17:50:05.544289280</td>\n",
       "      <td>NaN</td>\n",
       "      <td>NaN</td>\n",
       "      <td>NaN</td>\n",
       "      <td>9.505370e+07</td>\n",
       "      <td>3.556503e+07</td>\n",
       "      <td>NaN</td>\n",
       "      <td>2.671470e+08</td>\n",
       "      <td>NaN</td>\n",
       "    </tr>\n",
       "    <tr>\n",
       "      <th>min</th>\n",
       "      <td>NaN</td>\n",
       "      <td>1988-01-01 00:00:00</td>\n",
       "      <td>NaN</td>\n",
       "      <td>NaN</td>\n",
       "      <td>NaN</td>\n",
       "      <td>1.000000e+00</td>\n",
       "      <td>0.000000e+00</td>\n",
       "      <td>NaN</td>\n",
       "      <td>0.000000e+00</td>\n",
       "      <td>NaN</td>\n",
       "    </tr>\n",
       "    <tr>\n",
       "      <th>25%</th>\n",
       "      <td>NaN</td>\n",
       "      <td>1999-01-01 00:00:00</td>\n",
       "      <td>NaN</td>\n",
       "      <td>NaN</td>\n",
       "      <td>NaN</td>\n",
       "      <td>1.107200e+04</td>\n",
       "      <td>1.089000e+03</td>\n",
       "      <td>NaN</td>\n",
       "      <td>1.062000e+03</td>\n",
       "      <td>NaN</td>\n",
       "    </tr>\n",
       "    <tr>\n",
       "      <th>50%</th>\n",
       "      <td>NaN</td>\n",
       "      <td>2005-01-01 00:00:00</td>\n",
       "      <td>NaN</td>\n",
       "      <td>NaN</td>\n",
       "      <td>NaN</td>\n",
       "      <td>1.534160e+05</td>\n",
       "      <td>2.689800e+04</td>\n",
       "      <td>NaN</td>\n",
       "      <td>2.712000e+04</td>\n",
       "      <td>NaN</td>\n",
       "    </tr>\n",
       "    <tr>\n",
       "      <th>75%</th>\n",
       "      <td>NaN</td>\n",
       "      <td>2011-01-01 00:00:00</td>\n",
       "      <td>NaN</td>\n",
       "      <td>NaN</td>\n",
       "      <td>NaN</td>\n",
       "      <td>1.895476e+06</td>\n",
       "      <td>4.474432e+05</td>\n",
       "      <td>NaN</td>\n",
       "      <td>4.623620e+05</td>\n",
       "      <td>NaN</td>\n",
       "    </tr>\n",
       "    <tr>\n",
       "      <th>max</th>\n",
       "      <td>NaN</td>\n",
       "      <td>2016-01-01 00:00:00</td>\n",
       "      <td>NaN</td>\n",
       "      <td>NaN</td>\n",
       "      <td>NaN</td>\n",
       "      <td>2.443311e+12</td>\n",
       "      <td>1.860133e+12</td>\n",
       "      <td>NaN</td>\n",
       "      <td>1.026357e+15</td>\n",
       "      <td>NaN</td>\n",
       "    </tr>\n",
       "    <tr>\n",
       "      <th>std</th>\n",
       "      <td>NaN</td>\n",
       "      <td>NaN</td>\n",
       "      <td>NaN</td>\n",
       "      <td>NaN</td>\n",
       "      <td>NaN</td>\n",
       "      <td>7.074154e+09</td>\n",
       "      <td>2.479277e+09</td>\n",
       "      <td>NaN</td>\n",
       "      <td>3.739231e+11</td>\n",
       "      <td>NaN</td>\n",
       "    </tr>\n",
       "  </tbody>\n",
       "</table>\n",
       "</div>"
      ],
      "text/plain": [
       "          country                           year comm_code        commodity  \\\n",
       "count     8225871                        8225871   8225871          8225871   \n",
       "unique        209                            NaN      5040             5031   \n",
       "top     Australia                            NaN     TOTAL  ALL COMMODITIES   \n",
       "freq       307627                            NaN      9185             9185   \n",
       "mean          NaN  2004-10-07 17:50:05.544289280       NaN              NaN   \n",
       "min           NaN            1988-01-01 00:00:00       NaN              NaN   \n",
       "25%           NaN            1999-01-01 00:00:00       NaN              NaN   \n",
       "50%           NaN            2005-01-01 00:00:00       NaN              NaN   \n",
       "75%           NaN            2011-01-01 00:00:00       NaN              NaN   \n",
       "max           NaN            2016-01-01 00:00:00       NaN              NaN   \n",
       "std           NaN                            NaN       NaN              NaN   \n",
       "\n",
       "           flow     trade_usd     weight_kg        quantity_name  \\\n",
       "count   8225871  8.225871e+06  8.097396e+06              8225871   \n",
       "unique        4           NaN           NaN                   12   \n",
       "top      Import           NaN           NaN  Weight in kilograms   \n",
       "freq    4848524           NaN           NaN              6617980   \n",
       "mean        NaN  9.505370e+07  3.556503e+07                  NaN   \n",
       "min         NaN  1.000000e+00  0.000000e+00                  NaN   \n",
       "25%         NaN  1.107200e+04  1.089000e+03                  NaN   \n",
       "50%         NaN  1.534160e+05  2.689800e+04                  NaN   \n",
       "75%         NaN  1.895476e+06  4.474432e+05                  NaN   \n",
       "max         NaN  2.443311e+12  1.860133e+12                  NaN   \n",
       "std         NaN  7.074154e+09  2.479277e+09                  NaN   \n",
       "\n",
       "            quantity                         category  \n",
       "count   7.921014e+06                          8225871  \n",
       "unique           NaN                               98  \n",
       "top              NaN  95_toys_games_sports_requisites  \n",
       "freq             NaN                           100000  \n",
       "mean    2.671470e+08                              NaN  \n",
       "min     0.000000e+00                              NaN  \n",
       "25%     1.062000e+03                              NaN  \n",
       "50%     2.712000e+04                              NaN  \n",
       "75%     4.623620e+05                              NaN  \n",
       "max     1.026357e+15                              NaN  \n",
       "std     3.739231e+11                              NaN  "
      ]
     },
     "execution_count": 6,
     "metadata": {},
     "output_type": "execute_result"
    }
   ],
   "source": [
    "df.describe(include='all', datetime_is_numeric=True)"
   ]
  },
  {
   "cell_type": "markdown",
   "id": "e6bf7563",
   "metadata": {
    "papermill": {
     "duration": 0.005252,
     "end_time": "2022-09-27T02:21:58.619986",
     "exception": false,
     "start_time": "2022-09-27T02:21:58.614734",
     "status": "completed"
    },
    "tags": []
   },
   "source": [
    "This function gives us very interesting information and description about this dataset, such as: \n",
    "* the number of countries recorded in this dataset which is counted as **209 distinct countries**. \n",
    "* Also, we can see the interval of these records which is between **1988 to 2016**.\n",
    "* The top country in all segments appears to be **Australia** \n",
    "* The import records seem to be more applied than exports.\n",
    "* There are 98 product categories and the **category code 95** *Toys, Games, Sports requisites* is in the highest records of deals.\n",
    "\n",
    "We will dive deeper on other items later in other sections."
   ]
  },
  {
   "cell_type": "markdown",
   "id": "ecd5d601",
   "metadata": {
    "papermill": {
     "duration": 0.005041,
     "end_time": "2022-09-27T02:21:58.630414",
     "exception": false,
     "start_time": "2022-09-27T02:21:58.625373",
     "status": "completed"
    },
    "tags": []
   },
   "source": [
    "<a id=\"1\"></a><h1>Explanation and Observation</h1>\n",
    "\n",
    "[1].   **Variance**: the difference between the observation average and sample average."
   ]
  },
  {
   "cell_type": "code",
   "execution_count": null,
   "id": "fe896715",
   "metadata": {
    "papermill": {
     "duration": 0.005042,
     "end_time": "2022-09-27T02:21:58.640874",
     "exception": false,
     "start_time": "2022-09-27T02:21:58.635832",
     "status": "completed"
    },
    "tags": []
   },
   "outputs": [],
   "source": []
  }
 ],
 "metadata": {
  "kernelspec": {
   "display_name": "Python 3",
   "language": "python",
   "name": "python3"
  },
  "language_info": {
   "codemirror_mode": {
    "name": "ipython",
    "version": 3
   },
   "file_extension": ".py",
   "mimetype": "text/x-python",
   "name": "python",
   "nbconvert_exporter": "python",
   "pygments_lexer": "ipython3",
   "version": "3.7.12"
  },
  "papermill": {
   "default_parameters": {},
   "duration": 45.086005,
   "end_time": "2022-09-27T02:21:59.573475",
   "environment_variables": {},
   "exception": null,
   "input_path": "__notebook__.ipynb",
   "output_path": "__notebook__.ipynb",
   "parameters": {},
   "start_time": "2022-09-27T02:21:14.487470",
   "version": "2.3.4"
  }
 },
 "nbformat": 4,
 "nbformat_minor": 5
}
